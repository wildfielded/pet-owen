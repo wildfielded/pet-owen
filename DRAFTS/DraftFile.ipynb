{
 "cells": [
  {
   "cell_type": "code",
   "execution_count": 11,
   "id": "trying-encoding",
   "metadata": {},
   "outputs": [
    {
     "name": "stdout",
     "output_type": "stream",
     "text": [
      "EventDate\tEventTime\tDescription\tValue\n",
      "20.09.2021\t10:21:31\tСерверная № 2\t19,2\n",
      "20.09.2021\t10:21:31\tСерверная № 1\t19,7\n",
      "20.09.2021\t10:21:31\tАппаратная №1\t19,7\n",
      "20.09.2021\t10:21:31\tТЭ датчик № 1\t27,2\n",
      "20.09.2021\t10:21:31\tСГЭ\t20,2\n",
      "20.09.2021\t10:21:31\tДГУ\t25,9\n",
      "20.09.2021\t10:21:31\tТехн.помещ. ДП\t20,2\n",
      "20.09.2021\t10:21:31\tДП (Дисп.пункт)\t24,8\n",
      "\n"
     ]
    }
   ],
   "source": [
    "file_object = open('sample.txt', 'r', encoding='cp1251')\n",
    "file_content = file_object.read()\n",
    "file_object.close()\n",
    "print(file_content)"
   ]
  },
  {
   "cell_type": "code",
   "execution_count": 12,
   "id": "level-causing",
   "metadata": {},
   "outputs": [
    {
     "name": "stdout",
     "output_type": "stream",
     "text": [
      "['EventDate', 'EventTime', 'Description', 'Value']\n",
      "['20.09.2021', '10:21:31', 'Серверная № 2', '19,2']\n",
      "['20.09.2021', '10:21:31', 'Серверная № 1', '19,7']\n",
      "['20.09.2021', '10:21:31', 'Аппаратная №1', '19,7']\n",
      "['20.09.2021', '10:21:31', 'ТЭ датчик № 1', '27,2']\n",
      "['20.09.2021', '10:21:31', 'СГЭ', '20,2']\n",
      "['20.09.2021', '10:21:31', 'ДГУ', '25,9']\n",
      "['20.09.2021', '10:21:31', 'Техн.помещ. ДП', '20,2']\n",
      "['20.09.2021', '10:21:31', 'ДП (Дисп.пункт)', '24,8']\n"
     ]
    }
   ],
   "source": [
    "FILENAME = 'C:/Users/Stalk/JUPYTER_ROOT/OWEN/sample.txt'\n",
    "##### FILENAME = 'D:/DEVEL/GIT/wildfielded/pet-owen/DRAFTS/sample.txt'\n",
    "##### FILENAME = '/home/stalk/STALK/TMP/DRAFTS/sample.txt'\n",
    "file_object = open(FILENAME, 'r', encoding='cp1251')\n",
    "lines_list = file_object.readlines()\n",
    "file_object.close()\n",
    "for line in lines_list:\n",
    "    ##### print(line.strip())\n",
    "    print(line.strip().split('\\t'))\n"
   ]
  },
  {
   "cell_type": "code",
   "execution_count": null,
   "id": "affiliated-cedar",
   "metadata": {},
   "outputs": [],
   "source": []
  }
 ],
 "metadata": {
  "kernelspec": {
   "display_name": "Python 3",
   "language": "python",
   "name": "python3"
  },
  "language_info": {
   "codemirror_mode": {
    "name": "ipython",
    "version": 3
   },
   "file_extension": ".py",
   "mimetype": "text/x-python",
   "name": "python",
   "nbconvert_exporter": "python",
   "pygments_lexer": "ipython3",
   "version": "3.9.2"
  }
 },
 "nbformat": 4,
 "nbformat_minor": 5
}
