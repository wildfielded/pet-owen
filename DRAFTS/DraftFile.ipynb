{
 "cells": [
  {
   "cell_type": "code",
   "execution_count": 1,
   "id": "trying-encoding",
   "metadata": {},
   "outputs": [
    {
     "name": "stdout",
     "output_type": "stream",
     "text": [
      "EventDate\tEventTime\tDescription\tValue\n",
      "20.09.2021\t10:21:31\tСерверная № 2\t19,2\n",
      "20.09.2021\t10:21:31\tСерверная № 1\t19,7\n",
      "20.09.2021\t10:21:31\tАппаратная №1\t19,7\n",
      "20.09.2021\t10:21:31\tТЭ датчик № 1\t27,2\n",
      "20.09.2021\t10:21:31\tСГЭ\t20,2\n",
      "20.09.2021\t10:21:31\tДГУ\t25,9\n",
      "20.09.2021\t10:21:31\tТехн.помещ. ДП\t20,2\n",
      "20.09.2021\t10:21:31\tДП (Дисп.пункт)\t24,8\n",
      "\n"
     ]
    }
   ],
   "source": [
    "file_object = open('owen.txt')\n",
    "file_content = file_object.read()\n",
    "print(file_content)"
   ]
  },
  {
   "cell_type": "code",
   "execution_count": 4,
   "id": "qualified-penguin",
   "metadata": {},
   "outputs": [
    {
     "name": "stdout",
     "output_type": "stream",
     "text": [
      "0\n",
      "EventDate\tEventTime\tDescription\tValue\n",
      "\n",
      "1\n",
      "20.09.2021\t10:21:31\tСерверная № 2\t19,2\n",
      "\n",
      "2\n",
      "20.09.2021\t10:21:31\tСерверная № 1\t19,7\n",
      "\n",
      "3\n",
      "20.09.2021\t10:21:31\tАппаратная №1\t19,7\n",
      "\n",
      "4\n",
      "20.09.2021\t10:21:31\tТЭ датчик № 1\t27,2\n",
      "\n",
      "5\n",
      "20.09.2021\t10:21:31\tСГЭ\t20,2\n",
      "\n",
      "6\n",
      "20.09.2021\t10:21:31\tДГУ\t25,9\n",
      "\n",
      "7\n",
      "20.09.2021\t10:21:31\tТехн.помещ. ДП\t20,2\n",
      "\n",
      "8\n",
      "20.09.2021\t10:21:31\tДП (Дисп.пункт)\t24,8\n",
      "\n"
     ]
    }
   ],
   "source": [
    "file_object = open('owen.txt')\n",
    "line_number = 0\n",
    "for line in file_object:\n",
    "    print(line_number)\n",
    "    print(line)\n",
    "    line_number += 1\n"
   ]
  },
  {
   "cell_type": "code",
   "execution_count": 13,
   "id": "level-causing",
   "metadata": {},
   "outputs": [
    {
     "name": "stdout",
     "output_type": "stream",
     "text": [
      "EventDate\tEventTime\tDescription\tValue\n",
      "\n",
      "20.09.2021\t10:21:31\tСГЭ\t20,2\n",
      "\n"
     ]
    }
   ],
   "source": [
    "FILENAME = 'C:/Users/Stalk/JUPYTER_ROOT/OWEN/owen.txt'\n",
    "file_object = open(FILENAME, 'r')\n",
    "lines_list = file_object.readlines()\n",
    "print(lines_list[0])\n",
    "print(lines_list[5])"
   ]
  },
  {
   "cell_type": "code",
   "execution_count": null,
   "id": "affiliated-cedar",
   "metadata": {},
   "outputs": [],
   "source": []
  }
 ],
 "metadata": {
  "kernelspec": {
   "display_name": "Python 3",
   "language": "python",
   "name": "python3"
  },
  "language_info": {
   "codemirror_mode": {
    "name": "ipython",
    "version": 3
   },
   "file_extension": ".py",
   "mimetype": "text/x-python",
   "name": "python",
   "nbconvert_exporter": "python",
   "pygments_lexer": "ipython3",
   "version": "3.9.2"
  }
 },
 "nbformat": 4,
 "nbformat_minor": 5
}
